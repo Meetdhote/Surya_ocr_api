{
 "cells": [
  {
   "cell_type": "code",
   "execution_count": null,
   "metadata": {},
   "outputs": [
    {
     "name": "stderr",
     "output_type": "stream",
     "text": [
      "/home/azureuser/miniconda3/envs/suryaocr/lib/python3.10/site-packages/tqdm/auto.py:21: TqdmWarning: IProgress not found. Please update jupyter and ipywidgets. See https://ipywidgets.readthedocs.io/en/stable/user_install.html\n",
      "  from .autonotebook import tqdm as notebook_tqdm\n"
     ]
    },
    {
     "name": "stdout",
     "output_type": "stream",
     "text": [
      "Processing file: /home/azureuser/S_OCR/OCR/Test_data/Forms_for_OCR_transscript-3 1.jpg\n",
      "Loaded detection model vikp/surya_det3 on device cuda with dtype torch.float16\n",
      "Loaded recognition model vikp/surya_rec2 on device cuda with dtype torch.float16\n"
     ]
    },
    {
     "name": "stderr",
     "output_type": "stream",
     "text": [
      "Detecting bboxes: 100%|██████████| 1/1 [00:00<00:00,  1.72it/s]\n",
      "Recognizing Text: 100%|██████████| 1/1 [00:02<00:00,  2.31s/it]\n"
     ]
    },
    {
     "name": "stdout",
     "output_type": "stream",
     "text": [
      "OCR result has been saved to /home/azureuser/S_OCR/OCR/ocr_output/Forms_for_OCR_transscript-3 1.txt\n",
      "Processing file: /home/azureuser/S_OCR/OCR/Test_data/Aies.pdf\n",
      "Loaded detection model vikp/surya_det3 on device cuda with dtype torch.float16\n",
      "Loaded recognition model vikp/surya_rec2 on device cuda with dtype torch.float16\n"
     ]
    },
    {
     "name": "stderr",
     "output_type": "stream",
     "text": [
      "Detecting bboxes: 100%|██████████| 1/1 [00:03<00:00,  3.85s/it]\n",
      "Recognizing Text: 100%|██████████| 1/1 [00:04<00:00,  4.88s/it]"
     ]
    },
    {
     "name": "stdout",
     "output_type": "stream",
     "text": [
      "OCR result has been saved to /home/azureuser/S_OCR/OCR/ocr_output/Aies.txt\n"
     ]
    },
    {
     "name": "stderr",
     "output_type": "stream",
     "text": [
      "\n"
     ]
    }
   ],
   "source": [
    "import os\n",
    "from PIL import Image\n",
    "from surya.ocr import run_ocr\n",
    "from surya.model.detection.model import load_model as load_det_model, load_processor as load_det_processor\n",
    "from surya.model.recognition.model import load_model as load_rec_model\n",
    "from surya.model.recognition.processor import load_processor as load_rec_processor\n",
    "from pdf2image import convert_from_path\n",
    "\n",
    "# Helper function to process input file (image or PDF)\n",
    "def process_input(file_path):\n",
    "    if file_path.lower().endswith(('.png', '.jpg', '.jpeg', '.bmp', '.tiff')):\n",
    "        return [Image.open(file_path)]  # Open image file\n",
    "    elif file_path.lower().endswith('.pdf'):\n",
    "        pages = convert_from_path(file_path, 300)  # Convert PDF to images\n",
    "        return pages\n",
    "    else:\n",
    "        raise ValueError(\"Unsupported file type. Please provide a valid image or PDF file.\")\n",
    "\n",
    "# Function to save OCR output to text file\n",
    "def save_ocr_output(file_path, ocr_result, output_folder):\n",
    "    base_name = os.path.splitext(os.path.basename(file_path))[0]\n",
    "    output_text_file = os.path.join(output_folder, f\"{base_name}.txt\")\n",
    "    \n",
    "    # Save OCR result to the text file\n",
    "    with open(output_text_file, 'w') as file:\n",
    "        file.write(ocr_result)\n",
    "    \n",
    "    print(f\"OCR result has been saved to {output_text_file}\")\n",
    "\n",
    "# Function to run OCR on a given file (image or PDF)\n",
    "def run_ocr_on_file(file_path, output_folder):\n",
    "    # Process the input (image or PDF)\n",
    "    images = process_input(file_path)\n",
    "    langs = [\"en\"]  # Languages used for OCR\n",
    "\n",
    "    # Load the detection and recognition models\n",
    "    det_processor, det_model = load_det_processor(), load_det_model()\n",
    "    rec_model, rec_processor = load_rec_model(), load_rec_processor()\n",
    "\n",
    "    # Run OCR on the images\n",
    "    predictions = run_ocr(images, [langs] * len(images), det_model, det_processor, rec_model, rec_processor)\n",
    "\n",
    "    # Extract the full text from OCR predictions\n",
    "    full_text = \"\"\n",
    "    for prediction in predictions:\n",
    "        for text_line in prediction.text_lines:\n",
    "            full_text += text_line.text + \"\\n\"\n",
    "\n",
    "    # Save the OCR output to a text file\n",
    "    save_ocr_output(file_path, full_text, output_folder)\n",
    "\n",
    "# Function to process all files in a folder\n",
    "def process_input_folder(input_folder_path):\n",
    "    parent_dir = os.path.dirname(input_folder_path)\n",
    "    output_folder = os.path.join(parent_dir, \"ocr_output\")\n",
    "\n",
    "    os.makedirs(output_folder, exist_ok=True)\n",
    "\n",
    "    # Iterate through all files in the folder and process them\n",
    "    for root, dirs, files in os.walk(input_folder_path):\n",
    "        for file in files:\n",
    "            file_path = os.path.join(root, file)\n",
    "            if file.lower().endswith(('.pdf', '.png', '.jpg', '.jpeg', '.bmp', '.tiff')):\n",
    "                print(f\"Processing file: {file_path}\")\n",
    "                run_ocr_on_file(file_path, output_folder)\n",
    "\n",
    "# Set the folder path where the files are located\n",
    "input_folder_path = \"path/to/input/folder\"  \n",
    "process_input_folder(input_folder_path)\n"
   ]
  },
  {
   "cell_type": "code",
   "execution_count": null,
   "metadata": {},
   "outputs": [],
   "source": []
  }
 ],
 "metadata": {
  "kernelspec": {
   "display_name": "suryaocr",
   "language": "python",
   "name": "python3"
  },
  "language_info": {
   "codemirror_mode": {
    "name": "ipython",
    "version": 3
   },
   "file_extension": ".py",
   "mimetype": "text/x-python",
   "name": "python",
   "nbconvert_exporter": "python",
   "pygments_lexer": "ipython3",
   "version": "3.10.15"
  }
 },
 "nbformat": 4,
 "nbformat_minor": 2
}
